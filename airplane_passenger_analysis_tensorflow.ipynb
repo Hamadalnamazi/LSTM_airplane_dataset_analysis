{
 "cells": [
  {
   "cell_type": "code",
   "execution_count": 1,
   "metadata": {},
   "outputs": [],
   "source": [
    "import tensorflow as tf\n",
    "import pandas as pd\n",
    "import numpy as np\n",
    "\n",
    "import matplotlib.pyplot as plt\n",
    "\n",
    "import sklearn as sk\n",
    "from sklearn import preprocessing as ppr"
   ]
  },
  {
   "cell_type": "code",
   "execution_count": 2,
   "metadata": {},
   "outputs": [],
   "source": [
    "dataFrame = pd.read_csv('./international-airline-passengers.csv', usecols = [1], header = 0)[:-1]\n",
    "dataset_orig = dataFrame.values.astype(np.float32)"
   ]
  },
  {
   "cell_type": "code",
   "execution_count": 3,
   "metadata": {},
   "outputs": [
    {
     "data": {
      "image/png": "[encoded data removed]",
      "text/plain": [
       "<Figure size 432x288 with 1 Axes>"
      ]
     },
     "metadata": {},
     "output_type": "display_data"
    }
   ],
   "source": [
    "plt.plot(dataset_orig, label = \"Original Data\", c = 'g')\n",
    "plt.legend()\n",
    "plt.xlabel('TimeStamps')\n",
    "plt.ylabel(\"Total Passengers\")\n",
    "plt.show()"
   ]
  },
  {
   "cell_type": "code",
   "execution_count": 4,
   "metadata": {},
   "outputs": [],
   "source": [
    "# normalize the dataset\n",
    "scaler = ppr.MinMaxScaler(feature_range=(0, 1))\n",
    "dataset = scaler.fit_transform(dataset_orig)"
   ]
  },
  {
   "cell_type": "code",
   "execution_count": 5,
   "metadata": {},
   "outputs": [],
   "source": [
    "def train_test_set(dataset, percentage_train = 0.75):\n",
    "    l = len(dataset)\n",
    "    train_set_end_index = int(l * 0.67)\n",
    "    test_set_start_index = train_set_end_index + 1\n",
    "    train_set = dataset[:test_set_start_index]\n",
    "    test_set = dataset[test_set_start_index:]\n",
    "    return train_set, test_set\n",
    "\n",
    "def supervised_learning_form(train_dataset, test_dataset):\n",
    "    train_x = train_dataset[:-1]\n",
    "    train_y = train_dataset[1:]\n",
    "    test_x = test_dataset[:-1]\n",
    "    test_y = test_dataset[1:]\n",
    "    return train_x, train_y, test_x, test_y"
   ]
  },
  {
   "cell_type": "code",
   "execution_count": 6,
   "metadata": {},
   "outputs": [],
   "source": [
    "train_set, test_set = train_test_set(dataset)\n",
    "train_x, train_y, test_x, test_y = supervised_learning_form(train_set, test_set)"
   ]
  },
  {
   "cell_type": "code",
   "execution_count": 218,
   "metadata": {},
   "outputs": [],
   "source": [
    "# simple RNN in tensorflow\n",
    "\n",
    "net_size = 20\n",
    "n_epochs = 2000\n",
    "n_x = 1\n",
    "n_y = 1\n",
    "n_timestamp = n_x\n",
    "n_x_vars = 1\n",
    "n_y_vars = 1\n",
    "learning_rate = 0.08"
   ]
  },
  {
   "cell_type": "code",
   "execution_count": 232,
   "metadata": {},
   "outputs": [],
   "source": [
    "tf.reset_default_graph()"
   ]
  },
  {
   "cell_type": "code",
   "execution_count": 233,
   "metadata": {},
   "outputs": [],
   "source": [
    "# input and output placeholders\n",
    "X_p = tf.placeholder(tf.float32, [None, n_timestamp, n_x_vars], name = \"X_input\")\n",
    "Y_p = tf.placeholder(tf.float32, [None, n_timestamp, n_y_vars], name = \"Y_output\")\n",
    "\n",
    "rnn_inputs = tf.unstack(X_p, axis = 1)\n",
    "\n",
    "# setup the RNN\n",
    "with tf.name_scope(\"RNN\"):\n",
    "    rnnCell = tf.nn.rnn_cell.LSTMCell(net_size, name = \"rnn_cell\")\n",
    "    rnn_outputs, final_state = tf.nn.static_rnn(rnnCell, rnn_inputs, dtype=tf.float32)\n",
    "\n",
    "    # weights and biases\n",
    "\n",
    "    W = tf.get_variable('W', [net_size, n_y_vars])\n",
    "    b = tf.get_variable('b', [n_y_vars], initializer=tf.constant_initializer(0.0))"
   ]
  },
  {
   "cell_type": "code",
   "execution_count": 234,
   "metadata": {},
   "outputs": [],
   "source": [
    "# run predictions\n",
    "predictions = [tf.matmul(rnn_output, W) + b for rnn_output in rnn_outputs]"
   ]
  },
  {
   "cell_type": "code",
   "execution_count": 235,
   "metadata": {},
   "outputs": [],
   "source": [
    "# unstack Y\n",
    "\n",
    "y_as_list = tf.unstack(Y_p, num = n_timestamp, axis = 1)"
   ]
  },
  {
   "cell_type": "code",
   "execution_count": 236,
   "metadata": {},
   "outputs": [],
   "source": [
    "# setup the backprop stuffs\n",
    "\n",
    "losses = [tf.losses.mean_squared_error(labels = label, predictions = prediction) \n",
    "          for prediction, label in zip(predictions, y_as_list)]\n",
    "total_loss = tf.reduce_mean(losses)\n",
    "optimizer = tf.train.AdagradOptimizer(learning_rate).minimize(total_loss)"
   ]
  },
  {
   "cell_type": "code",
   "execution_count": 237,
   "metadata": {},
   "outputs": [
    {
     "name": "stdout",
     "output_type": "stream",
     "text": [
      "Loss after epoch 0 : 0.07158862\n",
      "Loss after epoch 100 : 0.0158956\n",
      "Loss after epoch 200 : 0.0121930875\n",
      "Loss after epoch 300 : 0.008921887\n",
      "Loss after epoch 400 : 0.0062219943\n",
      "Loss after epoch 500 : 0.004271889\n",
      "Loss after epoch 600 : 0.0030698702\n",
      "Loss after epoch 700 : 0.0024342835\n",
      "Loss after epoch 800 : 0.0021388326\n",
      "Loss after epoch 900 : 0.0020141948\n",
      "Loss after epoch 1000 : 0.0019650215\n",
      "Loss after epoch 1100 : 0.0019464273\n",
      "Loss after epoch 1200 : 0.0019395523\n",
      "Loss after epoch 1300 : 0.0019370153\n",
      "Loss after epoch 1400 : 0.0019360498\n",
      "Loss after epoch 1500 : 0.0019356472\n",
      "Loss after epoch 1600 : 0.0019354444\n",
      "Loss after epoch 1700 : 0.0019353124\n",
      "Loss after epoch 1800 : 0.0019352059\n",
      "Loss after epoch 1900 : 0.001935108\n",
      "Training mse :0.0019350149\n",
      "Testing mse :0.008867873\n"
     ]
    }
   ],
   "source": [
    "with tf.Session() as sess:\n",
    "    sess.run(tf.global_variables_initializer())\n",
    "    epoch_loss = 0.0\n",
    "    \n",
    "    # tensorboard\n",
    "    writer = tf.summary.FileWriter('./log', sess.graph)\n",
    "    # training\n",
    "    \n",
    "    for epoch in range(n_epochs):\n",
    "        \n",
    "        # first loss, then predict, then run optimizer till n_epochs\n",
    "        \n",
    "        \n",
    "        \n",
    "        epoch_loss, y_train_prediction,_ = sess.run([total_loss, predictions, optimizer], \n",
    "                 feed_dict = { X_p : train_x.reshape(-1, n_timestamp, n_x_vars), \n",
    "                              Y_p : train_y.reshape(-1, n_timestamp, n_y_vars) })\n",
    "        \n",
    "        if epoch % 100 == 0:\n",
    "            print(\"Loss after epoch \" + str(epoch) + \" : \" + str(epoch_loss))\n",
    "        \n",
    "    print(\"Training mse :\" + str(epoch_loss))\n",
    "    \n",
    "    #testing\n",
    "    \n",
    "    test_loss, y_test_prediction, _ = sess.run([total_loss, predictions, optimizer],\n",
    "                  feed_dict = { X_p : test_x.reshape(-1, n_timestamp, n_x_vars), \n",
    "                                Y_p : test_y.reshape(-1, n_timestamp, n_y_vars) })\n",
    "    print(\"Testing mse :\" + str(test_loss))"
   ]
  },
  {
   "cell_type": "code",
   "execution_count": 238,
   "metadata": {},
   "outputs": [],
   "source": [
    "# \"UN\"-normalize the generated test and train dataset\n",
    "\n",
    "y_train_prediction = scaler.inverse_transform(y_train_prediction[0])\n",
    "y_test_prediction = scaler.inverse_transform(y_test_prediction[0])"
   ]
  },
  {
   "cell_type": "code",
   "execution_count": 239,
   "metadata": {},
   "outputs": [],
   "source": [
    "# \"UN\"-normalize the real dataset\n",
    "\n",
    "y_train_orig = scaler.inverse_transform(train_y)"
   ]
  },
  {
   "cell_type": "code",
   "execution_count": 240,
   "metadata": {},
   "outputs": [],
   "source": [
    "# \"UN\"-normalize the test dataset\n",
    "\n",
    "y_test_orig = scaler.inverse_transform(test_y)"
   ]
  },
  {
   "cell_type": "code",
   "execution_count": 241,
   "metadata": {},
   "outputs": [],
   "source": [
    "y_test_prediction_shifted = np.empty_like(dataset_orig)\n",
    "y_test_prediction_shifted[:len(y_train_orig) + 1] = np.nan\n",
    "y_test_prediction_shifted[len(y_train_orig) + 1:-1] = y_test_prediction\n",
    "y_test_prediction_shifted[-1] = np.nan"
   ]
  },
  {
   "cell_type": "code",
   "execution_count": 242,
   "metadata": {
    "scrolled": true
   },
   "outputs": [
    {
     "data": {
      "image/png": "[encoded data removed]",
      "text/plain": [
       "<Figure size 432x288 with 1 Axes>"
      ]
     },
     "metadata": {},
     "output_type": "display_data"
    }
   ],
   "source": [
    "plt.plot(dataset_orig, label = \"original dataset\", c = 'b')\n",
    "plt.plot(y_train_prediction, label = \"Training set\", c = 'g')\n",
    "plt.plot(y_test_prediction_shifted, label = \"Prediction in test set\", c = 'r')\n",
    "plt.legend()\n",
    "plt.show()"
   ]
  },
  {
   "cell_type": "code",
   "execution_count": null,
   "metadata": {},
   "outputs": [],
   "source": []
  },
  {
   "cell_type": "code",
   "execution_count": null,
   "metadata": {},
   "outputs": [],
   "source": []
  },
  {
   "cell_type": "code",
   "execution_count": null,
   "metadata": {},
   "outputs": [],
   "source": []
  },
  {
   "cell_type": "code",
   "execution_count": null,
   "metadata": {},
   "outputs": [],
   "source": []
  }
 ],
 "metadata": {
  "kernelspec": {
   "display_name": "Python 3",
   "language": "python",
   "name": "python3"
  },
  "language_info": {
   "codemirror_mode": {
    "name": "ipython",
    "version": 3
   },
   "file_extension": ".py",
   "mimetype": "text/x-python",
   "name": "python",
   "nbconvert_exporter": "python",
   "pygments_lexer": "ipython3",
   "version": "3.6.2"
  }
 },
 "nbformat": 4,
 "nbformat_minor": 2
}
